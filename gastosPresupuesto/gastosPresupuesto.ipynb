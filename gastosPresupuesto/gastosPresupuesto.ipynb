{
 "cells": [
  {
   "cell_type": "markdown",
   "metadata": {
    "id": "NyzbOhNv--uz"
   },
   "source": [
    "# Análisis de datos: Gasto Público Social , Presupuesto Nacional. \n",
    "\n",
    "\n",
    "Proyecto práctico para analizar dos conjuntos de datos, *dataset*, sobre Gastos Público Social y Presupuesto Nacional, del Uruguay.<br>\n",
    "La fuente de cada dataset se encuentra en: \n",
    "\n",
    "1. \" https://catalogodatos.gub.uy/dataset/mides-indicador-13198 \"\n",
    "\n",
    "2. \" https://catalogodatos.gub.uy/dataset/opp-presupuestos-quinquenales \"\n",
    "\n",
    "La idea de este trabajo es realizar un análisis completo, en caso que sea necesario. Esto es, Carga del dataset, data wrangling, ETL, visualización de datos.\n",
    "\n",
    "Parte de la visualización de datos, se hará en Tableau Public. \n",
    "\n",
    "---\n",
    "Anthony de los Santos.\n"
   ]
  },
  {
   "cell_type": "markdown",
   "metadata": {
    "id": "Z0rXldtYLYuj"
   },
   "source": [
    "### Algunos comentarios: \n",
    "- Gran parte del trabajo será en visualización. Sobre Presupuesto Nacional se tratará en el período 2015-2018 y se presenta un dashboard en Tableau Public *(el link estará en la respectiva sección)* . \n",
    "- En esta hoja se presenta el código para ralizar gráficas y filtros en los dataset. \n",
    "- Se agradece a quien visite esta hoja, notebook, comentarios o críticas de este trabajo. Puede que se quieran agregar preguntas sobre los datos o un análisis más profundo en algún tema. Se agradece comentarios "
   ]
  },
  {
   "cell_type": "code",
   "execution_count": null,
   "metadata": {
    "id": "nPaFUiBY_HRI"
   },
   "outputs": [],
   "source": [
    "#\n",
    "# carga de paquetes para el trabajo\n",
    "#\n",
    "\n",
    "import pandas as pd;\n",
    "import numpy as np;\n",
    "import matplotlib.pyplot as plt;\n",
    "plt.style.use(\"seaborn\"); "
   ]
  },
  {
   "cell_type": "code",
   "execution_count": null,
   "metadata": {
    "id": "1k5FZWwYALJx"
   },
   "outputs": [],
   "source": [
    "# Carga de dataset\n",
    "\n",
    "# Gasto Público Social;\n",
    "gastos      = pd.read_csv(\"https://raw.githubusercontent.com/anthonydlsantos/ejemplos_python/master/gastosPresupuesto/gastos.csv\");      \n",
    "\n",
    "# Presupuesto 2015 - 2019;\n",
    "presupuesto = pd.read_csv(\"https://raw.githubusercontent.com/anthonydlsantos/ejemplos_python/master/gastosPresupuesto/presupuesto20152019.csv\");\n"
   ]
  },
  {
   "cell_type": "code",
   "execution_count": null,
   "metadata": {
    "colab": {
     "base_uri": "https://localhost:8080/"
    },
    "executionInfo": {
     "elapsed": 318,
     "status": "ok",
     "timestamp": 1666399210058,
     "user": {
      "displayName": "Anthony de los Santos",
      "userId": "04036911723789267090"
     },
     "user_tz": 180
    },
    "id": "VkhU6rfOwUxF",
    "outputId": "76f6bb01-55ea-466b-ef6c-6e8673983172"
   },
   "outputs": [
    {
     "name": "stdout",
     "output_type": "stream",
     "text": [
      "Dimensión de cada dataset gastosPublicos y presupuesto20152019 :  (70, 4) | (4516, 14)\n"
     ]
    }
   ],
   "source": [
    "print(\"Dimensión de cada dataset gastosPublicos y presupuesto20152019 : \", gastos.shape, \"|\", presupuesto.shape)\n"
   ]
  },
  {
   "cell_type": "markdown",
   "metadata": {
    "id": "xVVf5a8Kwd93"
   },
   "source": [
    "## El dataset Gastos. \n",
    "\n",
    "Gastos Publicos Sociales.\n",
    "\n",
    "---"
   ]
  },
  {
   "cell_type": "code",
   "execution_count": null,
   "metadata": {
    "colab": {
     "base_uri": "https://localhost:8080/",
     "height": 206
    },
    "executionInfo": {
     "elapsed": 24,
     "status": "ok",
     "timestamp": 1666399210059,
     "user": {
      "displayName": "Anthony de los Santos",
      "userId": "04036911723789267090"
     },
     "user_tz": 180
    },
    "id": "UbmTjzSawbWk",
    "outputId": "06eef93c-f0c2-4e41-e2bf-2e54048765be"
   },
   "outputs": [
    {
     "data": {
      "text/html": [
       "\n",
       "  <div id=\"df-a62640c1-d76b-4e38-918d-12dfc354039e\">\n",
       "    <div class=\"colab-df-container\">\n",
       "      <div>\n",
       "<style scoped>\n",
       "    .dataframe tbody tr th:only-of-type {\n",
       "        vertical-align: middle;\n",
       "    }\n",
       "\n",
       "    .dataframe tbody tr th {\n",
       "        vertical-align: top;\n",
       "    }\n",
       "\n",
       "    .dataframe thead th {\n",
       "        text-align: right;\n",
       "    }\n",
       "</style>\n",
       "<table border=\"1\" class=\"dataframe\">\n",
       "  <thead>\n",
       "    <tr style=\"text-align: right;\">\n",
       "      <th></th>\n",
       "      <th>Unnamed: 0</th>\n",
       "      <th>Funciones GPS_fg</th>\n",
       "      <th>año</th>\n",
       "      <th>valor</th>\n",
       "    </tr>\n",
       "  </thead>\n",
       "  <tbody>\n",
       "    <tr>\n",
       "      <th>0</th>\n",
       "      <td>0</td>\n",
       "      <td>Educación</td>\n",
       "      <td>2005</td>\n",
       "      <td>13330423</td>\n",
       "    </tr>\n",
       "    <tr>\n",
       "      <th>1</th>\n",
       "      <td>1</td>\n",
       "      <td>Salud</td>\n",
       "      <td>2005</td>\n",
       "      <td>17109940</td>\n",
       "    </tr>\n",
       "    <tr>\n",
       "      <th>2</th>\n",
       "      <td>2</td>\n",
       "      <td>Seguridad y Asistencia Social</td>\n",
       "      <td>2005</td>\n",
       "      <td>48449411</td>\n",
       "    </tr>\n",
       "    <tr>\n",
       "      <th>3</th>\n",
       "      <td>3</td>\n",
       "      <td>Vivienda y Servicios comunitarios</td>\n",
       "      <td>2005</td>\n",
       "      <td>5537733</td>\n",
       "    </tr>\n",
       "    <tr>\n",
       "      <th>4</th>\n",
       "      <td>4</td>\n",
       "      <td>Cultura y Deporte</td>\n",
       "      <td>2005</td>\n",
       "      <td>803209</td>\n",
       "    </tr>\n",
       "  </tbody>\n",
       "</table>\n",
       "</div>\n",
       "      <button class=\"colab-df-convert\" onclick=\"convertToInteractive('df-a62640c1-d76b-4e38-918d-12dfc354039e')\"\n",
       "              title=\"Convert this dataframe to an interactive table.\"\n",
       "              style=\"display:none;\">\n",
       "        \n",
       "  <svg xmlns=\"http://www.w3.org/2000/svg\" height=\"24px\"viewBox=\"0 0 24 24\"\n",
       "       width=\"24px\">\n",
       "    <path d=\"M0 0h24v24H0V0z\" fill=\"none\"/>\n",
       "    <path d=\"M18.56 5.44l.94 2.06.94-2.06 2.06-.94-2.06-.94-.94-2.06-.94 2.06-2.06.94zm-11 1L8.5 8.5l.94-2.06 2.06-.94-2.06-.94L8.5 2.5l-.94 2.06-2.06.94zm10 10l.94 2.06.94-2.06 2.06-.94-2.06-.94-.94-2.06-.94 2.06-2.06.94z\"/><path d=\"M17.41 7.96l-1.37-1.37c-.4-.4-.92-.59-1.43-.59-.52 0-1.04.2-1.43.59L10.3 9.45l-7.72 7.72c-.78.78-.78 2.05 0 2.83L4 21.41c.39.39.9.59 1.41.59.51 0 1.02-.2 1.41-.59l7.78-7.78 2.81-2.81c.8-.78.8-2.07 0-2.86zM5.41 20L4 18.59l7.72-7.72 1.47 1.35L5.41 20z\"/>\n",
       "  </svg>\n",
       "      </button>\n",
       "      \n",
       "  <style>\n",
       "    .colab-df-container {\n",
       "      display:flex;\n",
       "      flex-wrap:wrap;\n",
       "      gap: 12px;\n",
       "    }\n",
       "\n",
       "    .colab-df-convert {\n",
       "      background-color: #E8F0FE;\n",
       "      border: none;\n",
       "      border-radius: 50%;\n",
       "      cursor: pointer;\n",
       "      display: none;\n",
       "      fill: #1967D2;\n",
       "      height: 32px;\n",
       "      padding: 0 0 0 0;\n",
       "      width: 32px;\n",
       "    }\n",
       "\n",
       "    .colab-df-convert:hover {\n",
       "      background-color: #E2EBFA;\n",
       "      box-shadow: 0px 1px 2px rgba(60, 64, 67, 0.3), 0px 1px 3px 1px rgba(60, 64, 67, 0.15);\n",
       "      fill: #174EA6;\n",
       "    }\n",
       "\n",
       "    [theme=dark] .colab-df-convert {\n",
       "      background-color: #3B4455;\n",
       "      fill: #D2E3FC;\n",
       "    }\n",
       "\n",
       "    [theme=dark] .colab-df-convert:hover {\n",
       "      background-color: #434B5C;\n",
       "      box-shadow: 0px 1px 3px 1px rgba(0, 0, 0, 0.15);\n",
       "      filter: drop-shadow(0px 1px 2px rgba(0, 0, 0, 0.3));\n",
       "      fill: #FFFFFF;\n",
       "    }\n",
       "  </style>\n",
       "\n",
       "      <script>\n",
       "        const buttonEl =\n",
       "          document.querySelector('#df-a62640c1-d76b-4e38-918d-12dfc354039e button.colab-df-convert');\n",
       "        buttonEl.style.display =\n",
       "          google.colab.kernel.accessAllowed ? 'block' : 'none';\n",
       "\n",
       "        async function convertToInteractive(key) {\n",
       "          const element = document.querySelector('#df-a62640c1-d76b-4e38-918d-12dfc354039e');\n",
       "          const dataTable =\n",
       "            await google.colab.kernel.invokeFunction('convertToInteractive',\n",
       "                                                     [key], {});\n",
       "          if (!dataTable) return;\n",
       "\n",
       "          const docLinkHtml = 'Like what you see? Visit the ' +\n",
       "            '<a target=\"_blank\" href=https://colab.research.google.com/notebooks/data_table.ipynb>data table notebook</a>'\n",
       "            + ' to learn more about interactive tables.';\n",
       "          element.innerHTML = '';\n",
       "          dataTable['output_type'] = 'display_data';\n",
       "          await google.colab.output.renderOutput(dataTable, element);\n",
       "          const docLink = document.createElement('div');\n",
       "          docLink.innerHTML = docLinkHtml;\n",
       "          element.appendChild(docLink);\n",
       "        }\n",
       "      </script>\n",
       "    </div>\n",
       "  </div>\n",
       "  "
      ],
      "text/plain": [
       "   Unnamed: 0                   Funciones GPS_fg   año     valor\n",
       "0           0                          Educación  2005  13330423\n",
       "1           1                              Salud  2005  17109940\n",
       "2           2      Seguridad y Asistencia Social  2005  48449411\n",
       "3           3  Vivienda y Servicios comunitarios  2005   5537733\n",
       "4           4                  Cultura y Deporte  2005    803209"
      ]
     },
     "execution_count": 5,
     "metadata": {},
     "output_type": "execute_result"
    }
   ],
   "source": [
    "# Para comenzar, se realiza un analisis en el dataset gastos. \n",
    "gastos.head() "
   ]
  },
  {
   "cell_type": "code",
   "execution_count": null,
   "metadata": {
    "id": "QEJl19kFwqap"
   },
   "outputs": [],
   "source": [
    "#\n",
    "# Sobre gastos, ¿ Cuanto fue el gasto correspondiente al año 2005 y 2006 ? \n",
    "#"
   ]
  },
  {
   "cell_type": "code",
   "execution_count": null,
   "metadata": {
    "id": "P9NcrZX7wrO1"
   },
   "outputs": [],
   "source": [
    "# Filtramos esos datos:  \n",
    "gastos2005 = gastos.loc[ gastos[\"año\"] == 2005 ]; \n",
    "gastos2006 = gastos.loc[ gastos[\"año\"] == 2006 ];"
   ]
  },
  {
   "cell_type": "code",
   "execution_count": null,
   "metadata": {
    "colab": {
     "base_uri": "https://localhost:8080/",
     "height": 528
    },
    "executionInfo": {
     "elapsed": 402,
     "status": "ok",
     "timestamp": 1666399210445,
     "user": {
      "displayName": "Anthony de los Santos",
      "userId": "04036911723789267090"
     },
     "user_tz": 180
    },
    "id": "tWPiZ4HkwtkY",
    "outputId": "485ebd38-be61-44ce-bcef-62e4e2550860"
   },
   "outputs": [
    {
     "data": {
      "image/png": "[encoded data removed]",
      "text/plain": [
       "<Figure size 576x432 with 1 Axes>"
      ]
     },
     "metadata": {},
     "output_type": "display_data"
    }
   ],
   "source": [
    "#\n",
    "# Creamos una gráfica de barras con esos datos de gastos en 2005,2006;\n",
    "# _ Para una mejor visualización se aplica logaritmo al gasto ( log( data[\"valor\"] ) )\n",
    "#\n",
    "\n",
    "plt.figure(figsize=[8,6])\n",
    "\n",
    "plt.bar( gastos2006[\"Funciones GPS_fg\"], gastos2006[\"valor\"].transform( np.log ), label=\"2006\" )\n",
    "plt.bar( gastos2005[\"Funciones GPS_fg\"], gastos2005[\"valor\"].transform( np.log ), label=\"2005\" )\n",
    "\n",
    "plt.title(\"Gastos Públicos 2005-2006\", fontweight=\"bold\")\n",
    "plt.ylabel(\" log( $gasto ) \", color=\"blue\")\n",
    "plt.tick_params(axis=\"x\", colors=\"blue\", labelrotation = 85)\n",
    "plt.legend()\n",
    "\n",
    "plt.show()"
   ]
  },
  {
   "cell_type": "markdown",
   "metadata": {
    "id": "b0qxESONw5EU"
   },
   "source": [
    "En base al simple plot *(Gráfica)* se puede ver que se destina el mayor gasto público a Seguridad y Servicios comunitarios, siendo Cultura y Deporte el menor valor destinado al gasto público.  "
   ]
  },
  {
   "cell_type": "code",
   "execution_count": null,
   "metadata": {
    "colab": {
     "base_uri": "https://localhost:8080/",
     "height": 81
    },
    "executionInfo": {
     "elapsed": 31,
     "status": "ok",
     "timestamp": 1666399210448,
     "user": {
      "displayName": "Anthony de los Santos",
      "userId": "04036911723789267090"
     },
     "user_tz": 180
    },
    "id": "xNJ2NErwwzBU",
    "outputId": "508d7c5a-a9ac-4b4d-fccb-632c19f10f46"
   },
   "outputs": [
    {
     "data": {
      "text/html": [
       "\n",
       "  <div id=\"df-a328656f-f88c-43f8-ac2b-6ce8da0ac6b7\">\n",
       "    <div class=\"colab-df-container\">\n",
       "      <div>\n",
       "<style scoped>\n",
       "    .dataframe tbody tr th:only-of-type {\n",
       "        vertical-align: middle;\n",
       "    }\n",
       "\n",
       "    .dataframe tbody tr th {\n",
       "        vertical-align: top;\n",
       "    }\n",
       "\n",
       "    .dataframe thead th {\n",
       "        text-align: right;\n",
       "    }\n",
       "</style>\n",
       "<table border=\"1\" class=\"dataframe\">\n",
       "  <thead>\n",
       "    <tr style=\"text-align: right;\">\n",
       "      <th></th>\n",
       "      <th>Unnamed: 0</th>\n",
       "      <th>Funciones GPS_fg</th>\n",
       "      <th>año</th>\n",
       "      <th>valor</th>\n",
       "    </tr>\n",
       "  </thead>\n",
       "  <tbody>\n",
       "    <tr>\n",
       "      <th>2</th>\n",
       "      <td>2</td>\n",
       "      <td>Seguridad y Asistencia Social</td>\n",
       "      <td>2005</td>\n",
       "      <td>48449411</td>\n",
       "    </tr>\n",
       "  </tbody>\n",
       "</table>\n",
       "</div>\n",
       "      <button class=\"colab-df-convert\" onclick=\"convertToInteractive('df-a328656f-f88c-43f8-ac2b-6ce8da0ac6b7')\"\n",
       "              title=\"Convert this dataframe to an interactive table.\"\n",
       "              style=\"display:none;\">\n",
       "        \n",
       "  <svg xmlns=\"http://www.w3.org/2000/svg\" height=\"24px\"viewBox=\"0 0 24 24\"\n",
       "       width=\"24px\">\n",
       "    <path d=\"M0 0h24v24H0V0z\" fill=\"none\"/>\n",
       "    <path d=\"M18.56 5.44l.94 2.06.94-2.06 2.06-.94-2.06-.94-.94-2.06-.94 2.06-2.06.94zm-11 1L8.5 8.5l.94-2.06 2.06-.94-2.06-.94L8.5 2.5l-.94 2.06-2.06.94zm10 10l.94 2.06.94-2.06 2.06-.94-2.06-.94-.94-2.06-.94 2.06-2.06.94z\"/><path d=\"M17.41 7.96l-1.37-1.37c-.4-.4-.92-.59-1.43-.59-.52 0-1.04.2-1.43.59L10.3 9.45l-7.72 7.72c-.78.78-.78 2.05 0 2.83L4 21.41c.39.39.9.59 1.41.59.51 0 1.02-.2 1.41-.59l7.78-7.78 2.81-2.81c.8-.78.8-2.07 0-2.86zM5.41 20L4 18.59l7.72-7.72 1.47 1.35L5.41 20z\"/>\n",
       "  </svg>\n",
       "      </button>\n",
       "      \n",
       "  <style>\n",
       "    .colab-df-container {\n",
       "      display:flex;\n",
       "      flex-wrap:wrap;\n",
       "      gap: 12px;\n",
       "    }\n",
       "\n",
       "    .colab-df-convert {\n",
       "      background-color: #E8F0FE;\n",
       "      border: none;\n",
       "      border-radius: 50%;\n",
       "      cursor: pointer;\n",
       "      display: none;\n",
       "      fill: #1967D2;\n",
       "      height: 32px;\n",
       "      padding: 0 0 0 0;\n",
       "      width: 32px;\n",
       "    }\n",
       "\n",
       "    .colab-df-convert:hover {\n",
       "      background-color: #E2EBFA;\n",
       "      box-shadow: 0px 1px 2px rgba(60, 64, 67, 0.3), 0px 1px 3px 1px rgba(60, 64, 67, 0.15);\n",
       "      fill: #174EA6;\n",
       "    }\n",
       "\n",
       "    [theme=dark] .colab-df-convert {\n",
       "      background-color: #3B4455;\n",
       "      fill: #D2E3FC;\n",
       "    }\n",
       "\n",
       "    [theme=dark] .colab-df-convert:hover {\n",
       "      background-color: #434B5C;\n",
       "      box-shadow: 0px 1px 3px 1px rgba(0, 0, 0, 0.15);\n",
       "      filter: drop-shadow(0px 1px 2px rgba(0, 0, 0, 0.3));\n",
       "      fill: #FFFFFF;\n",
       "    }\n",
       "  </style>\n",
       "\n",
       "      <script>\n",
       "        const buttonEl =\n",
       "          document.querySelector('#df-a328656f-f88c-43f8-ac2b-6ce8da0ac6b7 button.colab-df-convert');\n",
       "        buttonEl.style.display =\n",
       "          google.colab.kernel.accessAllowed ? 'block' : 'none';\n",
       "\n",
       "        async function convertToInteractive(key) {\n",
       "          const element = document.querySelector('#df-a328656f-f88c-43f8-ac2b-6ce8da0ac6b7');\n",
       "          const dataTable =\n",
       "            await google.colab.kernel.invokeFunction('convertToInteractive',\n",
       "                                                     [key], {});\n",
       "          if (!dataTable) return;\n",
       "\n",
       "          const docLinkHtml = 'Like what you see? Visit the ' +\n",
       "            '<a target=\"_blank\" href=https://colab.research.google.com/notebooks/data_table.ipynb>data table notebook</a>'\n",
       "            + ' to learn more about interactive tables.';\n",
       "          element.innerHTML = '';\n",
       "          dataTable['output_type'] = 'display_data';\n",
       "          await google.colab.output.renderOutput(dataTable, element);\n",
       "          const docLink = document.createElement('div');\n",
       "          docLink.innerHTML = docLinkHtml;\n",
       "          element.appendChild(docLink);\n",
       "        }\n",
       "      </script>\n",
       "    </div>\n",
       "  </div>\n",
       "  "
      ],
      "text/plain": [
       "   Unnamed: 0               Funciones GPS_fg   año     valor\n",
       "2           2  Seguridad y Asistencia Social  2005  48449411"
      ]
     },
     "execution_count": 9,
     "metadata": {},
     "output_type": "execute_result"
    }
   ],
   "source": [
    "#\n",
    "# Valores máximos y mínimos de gastos en 2005;\n",
    "#\n",
    "\n",
    "maxGasto2005 = gastos2005.loc[ gastos2005[\"valor\"] == gastos2005[\"valor\"].max() ]; # Con valor en miles de pesos $. \n",
    "maxGasto2005"
   ]
  },
  {
   "cell_type": "code",
   "execution_count": null,
   "metadata": {
    "colab": {
     "base_uri": "https://localhost:8080/",
     "height": 81
    },
    "executionInfo": {
     "elapsed": 29,
     "status": "ok",
     "timestamp": 1666399210450,
     "user": {
      "displayName": "Anthony de los Santos",
      "userId": "04036911723789267090"
     },
     "user_tz": 180
    },
    "id": "uVgXiTUAw8Xw",
    "outputId": "33fff4f9-c9e2-4646-ade7-536df66547c3"
   },
   "outputs": [
    {
     "data": {
      "text/html": [
       "\n",
       "  <div id=\"df-be0fc2cb-d99b-4e84-a318-57f8cf914860\">\n",
       "    <div class=\"colab-df-container\">\n",
       "      <div>\n",
       "<style scoped>\n",
       "    .dataframe tbody tr th:only-of-type {\n",
       "        vertical-align: middle;\n",
       "    }\n",
       "\n",
       "    .dataframe tbody tr th {\n",
       "        vertical-align: top;\n",
       "    }\n",
       "\n",
       "    .dataframe thead th {\n",
       "        text-align: right;\n",
       "    }\n",
       "</style>\n",
       "<table border=\"1\" class=\"dataframe\">\n",
       "  <thead>\n",
       "    <tr style=\"text-align: right;\">\n",
       "      <th></th>\n",
       "      <th>Unnamed: 0</th>\n",
       "      <th>Funciones GPS_fg</th>\n",
       "      <th>año</th>\n",
       "      <th>valor</th>\n",
       "    </tr>\n",
       "  </thead>\n",
       "  <tbody>\n",
       "    <tr>\n",
       "      <th>4</th>\n",
       "      <td>4</td>\n",
       "      <td>Cultura y Deporte</td>\n",
       "      <td>2005</td>\n",
       "      <td>803209</td>\n",
       "    </tr>\n",
       "  </tbody>\n",
       "</table>\n",
       "</div>\n",
       "      <button class=\"colab-df-convert\" onclick=\"convertToInteractive('df-be0fc2cb-d99b-4e84-a318-57f8cf914860')\"\n",
       "              title=\"Convert this dataframe to an interactive table.\"\n",
       "              style=\"display:none;\">\n",
       "        \n",
       "  <svg xmlns=\"http://www.w3.org/2000/svg\" height=\"24px\"viewBox=\"0 0 24 24\"\n",
       "       width=\"24px\">\n",
       "    <path d=\"M0 0h24v24H0V0z\" fill=\"none\"/>\n",
       "    <path d=\"M18.56 5.44l.94 2.06.94-2.06 2.06-.94-2.06-.94-.94-2.06-.94 2.06-2.06.94zm-11 1L8.5 8.5l.94-2.06 2.06-.94-2.06-.94L8.5 2.5l-.94 2.06-2.06.94zm10 10l.94 2.06.94-2.06 2.06-.94-2.06-.94-.94-2.06-.94 2.06-2.06.94z\"/><path d=\"M17.41 7.96l-1.37-1.37c-.4-.4-.92-.59-1.43-.59-.52 0-1.04.2-1.43.59L10.3 9.45l-7.72 7.72c-.78.78-.78 2.05 0 2.83L4 21.41c.39.39.9.59 1.41.59.51 0 1.02-.2 1.41-.59l7.78-7.78 2.81-2.81c.8-.78.8-2.07 0-2.86zM5.41 20L4 18.59l7.72-7.72 1.47 1.35L5.41 20z\"/>\n",
       "  </svg>\n",
       "      </button>\n",
       "      \n",
       "  <style>\n",
       "    .colab-df-container {\n",
       "      display:flex;\n",
       "      flex-wrap:wrap;\n",
       "      gap: 12px;\n",
       "    }\n",
       "\n",
       "    .colab-df-convert {\n",
       "      background-color: #E8F0FE;\n",
       "      border: none;\n",
       "      border-radius: 50%;\n",
       "      cursor: pointer;\n",
       "      display: none;\n",
       "      fill: #1967D2;\n",
       "      height: 32px;\n",
       "      padding: 0 0 0 0;\n",
       "      width: 32px;\n",
       "    }\n",
       "\n",
       "    .colab-df-convert:hover {\n",
       "      background-color: #E2EBFA;\n",
       "      box-shadow: 0px 1px 2px rgba(60, 64, 67, 0.3), 0px 1px 3px 1px rgba(60, 64, 67, 0.15);\n",
       "      fill: #174EA6;\n",
       "    }\n",
       "\n",
       "    [theme=dark] .colab-df-convert {\n",
       "      background-color: #3B4455;\n",
       "      fill: #D2E3FC;\n",
       "    }\n",
       "\n",
       "    [theme=dark] .colab-df-convert:hover {\n",
       "      background-color: #434B5C;\n",
       "      box-shadow: 0px 1px 3px 1px rgba(0, 0, 0, 0.15);\n",
       "      filter: drop-shadow(0px 1px 2px rgba(0, 0, 0, 0.3));\n",
       "      fill: #FFFFFF;\n",
       "    }\n",
       "  </style>\n",
       "\n",
       "      <script>\n",
       "        const buttonEl =\n",
       "          document.querySelector('#df-be0fc2cb-d99b-4e84-a318-57f8cf914860 button.colab-df-convert');\n",
       "        buttonEl.style.display =\n",
       "          google.colab.kernel.accessAllowed ? 'block' : 'none';\n",
       "\n",
       "        async function convertToInteractive(key) {\n",
       "          const element = document.querySelector('#df-be0fc2cb-d99b-4e84-a318-57f8cf914860');\n",
       "          const dataTable =\n",
       "            await google.colab.kernel.invokeFunction('convertToInteractive',\n",
       "                                                     [key], {});\n",
       "          if (!dataTable) return;\n",
       "\n",
       "          const docLinkHtml = 'Like what you see? Visit the ' +\n",
       "            '<a target=\"_blank\" href=https://colab.research.google.com/notebooks/data_table.ipynb>data table notebook</a>'\n",
       "            + ' to learn more about interactive tables.';\n",
       "          element.innerHTML = '';\n",
       "          dataTable['output_type'] = 'display_data';\n",
       "          await google.colab.output.renderOutput(dataTable, element);\n",
       "          const docLink = document.createElement('div');\n",
       "          docLink.innerHTML = docLinkHtml;\n",
       "          element.appendChild(docLink);\n",
       "        }\n",
       "      </script>\n",
       "    </div>\n",
       "  </div>\n",
       "  "
      ],
      "text/plain": [
       "   Unnamed: 0   Funciones GPS_fg   año   valor\n",
       "4           4  Cultura y Deporte  2005  803209"
      ]
     },
     "execution_count": 10,
     "metadata": {},
     "output_type": "execute_result"
    }
   ],
   "source": [
    "minGasto2005 = gastos2005.loc[ gastos2005[\"valor\"] == gastos2005[\"valor\"].min() ];\n",
    "minGasto2005"
   ]
  },
  {
   "cell_type": "code",
   "execution_count": null,
   "metadata": {
    "id": "RFv_wNx8xE2K"
   },
   "outputs": [],
   "source": [
    "# ¿ Como evolucionan los gastos en el tiempo ? "
   ]
  },
  {
   "cell_type": "code",
   "execution_count": null,
   "metadata": {
    "id": "zdXyTN6hxF1N"
   },
   "outputs": [],
   "source": [
    "#\n",
    "# Educacion, Salud, Seguridad y Asistencia social, vivienda y servicios comunitarios, cultura y deporte. \n",
    "# Evolucion temporal (en años)\n",
    "#"
   ]
  },
  {
   "cell_type": "code",
   "execution_count": null,
   "metadata": {
    "id": "9SV2mbPtxM2z"
   },
   "outputs": [],
   "source": [
    "# Tomo como partida, la evolución de gastos en función del año de la educacion. \n",
    "\n",
    "ed = gastos.loc[ gastos[\"Funciones GPS_fg\"] == \"Educación\" ];\n"
   ]
  },
  {
   "cell_type": "code",
   "execution_count": null,
   "metadata": {
    "colab": {
     "base_uri": "https://localhost:8080/",
     "height": 362
    },
    "executionInfo": {
     "elapsed": 402,
     "status": "ok",
     "timestamp": 1666399211130,
     "user": {
      "displayName": "Anthony de los Santos",
      "userId": "04036911723789267090"
     },
     "user_tz": 180
    },
    "id": "C2xCF11ExPT5",
    "outputId": "9832e169-3d49-4aa0-e513-c617e58ed088"
   },
   "outputs": [
    {
     "data": {
      "image/png": "[encoded data removed]",
      "text/plain": [
       "<Figure size 576x396 with 1 Axes>"
      ]
     },
     "metadata": {},
     "output_type": "display_data"
    }
   ],
   "source": [
    "\n",
    "plt.figure()\n",
    "plt.scatter( ed[ \"año\" ], ed[ \"valor\" ].transform( np.log ) )\n",
    "plt.plot( ed[ \"año\" ], ed[ \"valor\" ].transform( np.log ), \"g\" )\n",
    "\n",
    "\n",
    "plt.title( \" Educación | Gastos 2005-2018 \", fontweight=\"bold\" )\n",
    "\n",
    "\n",
    "plt.show()"
   ]
  },
  {
   "cell_type": "code",
   "execution_count": null,
   "metadata": {
    "colab": {
     "base_uri": "https://localhost:8080/",
     "height": 376
    },
    "executionInfo": {
     "elapsed": 523,
     "status": "ok",
     "timestamp": 1666399211643,
     "user": {
      "displayName": "Anthony de los Santos",
      "userId": "04036911723789267090"
     },
     "user_tz": 180
    },
    "id": "0PuMws-fxSDs",
    "outputId": "a48ce456-18d8-4a46-f04b-c30afbf8f425"
   },
   "outputs": [
    {
     "data": {
      "image/png": "[encoded data removed]",
      "text/plain": [
       "<Figure size 576x396 with 1 Axes>"
      ]
     },
     "metadata": {},
     "output_type": "display_data"
    }
   ],
   "source": [
    "#\n",
    "# Todos\n",
    "# \n",
    "\n",
    "funciones = list(gastos[\"Funciones GPS_fg\"].drop_duplicates());\n",
    "\n",
    "plt.figure();\n",
    "\n",
    "for i in funciones:\n",
    "    d = gastos.loc[ gastos[\"Funciones GPS_fg\"] == i ];\n",
    "    \n",
    "    plt.scatter( d[ \"año\" ], d[ \"valor\" ].transform( np.log ), label=i)\n",
    "    plt.plot( d[ \"año\" ], d[ \"valor\" ].transform( np.log ) )\n",
    "\n",
    "    plt.title( \" Gasto de funciones públicas 2005-2018 \", fontweight=\"bold\" )\n",
    "    plt.legend()\n",
    "\n",
    "\n",
    "plt.xlabel(\" Años \")\n",
    "plt.ylabel(\" log( $gastos ) \")\n",
    "plt.show();\n",
    "    \n"
   ]
  },
  {
   "cell_type": "markdown",
   "metadata": {
    "id": "nLAYsU_2x77O"
   },
   "source": [
    "## El dataset Presupuesto.  \n",
    "\n",
    "---"
   ]
  },
  {
   "cell_type": "code",
   "execution_count": null,
   "metadata": {
    "colab": {
     "base_uri": "https://localhost:8080/",
     "height": 618
    },
    "executionInfo": {
     "elapsed": 36,
     "status": "ok",
     "timestamp": 1666399211645,
     "user": {
      "displayName": "Anthony de los Santos",
      "userId": "04036911723789267090"
     },
     "user_tz": 180
    },
    "id": "2TwwWSGSx-t7",
    "outputId": "0732a40f-f896-4ae0-f8fd-9802d99abbc3"
   },
   "outputs": [
    {
     "data": {
      "text/html": [
       "\n",
       "  <div id=\"df-3ec09975-7558-4f18-93a6-d258b38d54f1\">\n",
       "    <div class=\"colab-df-container\">\n",
       "      <div>\n",
       "<style scoped>\n",
       "    .dataframe tbody tr th:only-of-type {\n",
       "        vertical-align: middle;\n",
       "    }\n",
       "\n",
       "    .dataframe tbody tr th {\n",
       "        vertical-align: top;\n",
       "    }\n",
       "\n",
       "    .dataframe thead th {\n",
       "        text-align: right;\n",
       "    }\n",
       "</style>\n",
       "<table border=\"1\" class=\"dataframe\">\n",
       "  <thead>\n",
       "    <tr style=\"text-align: right;\">\n",
       "      <th></th>\n",
       "      <th>año</th>\n",
       "      <th>organismo_sigla</th>\n",
       "      <th>ue_sigla</th>\n",
       "      <th>ue_nombre</th>\n",
       "      <th>ap_codigo</th>\n",
       "      <th>ap_nombre</th>\n",
       "      <th>ap_descripcion</th>\n",
       "      <th>programa_codigo</th>\n",
       "      <th>programa_nombre</th>\n",
       "      <th>programa_objetivo</th>\n",
       "      <th>organismo_codigo</th>\n",
       "      <th>ue_codigo</th>\n",
       "      <th>tipo_gasto_nombre</th>\n",
       "      <th>presupuestado</th>\n",
       "    </tr>\n",
       "  </thead>\n",
       "  <tbody>\n",
       "    <tr>\n",
       "      <th>0</th>\n",
       "      <td>2015</td>\n",
       "      <td>ANEP</td>\n",
       "      <td>CEIP</td>\n",
       "      <td>Consejo de Educación Inicial y Primaria</td>\n",
       "      <td>8</td>\n",
       "      <td>EDUCACIÓN</td>\n",
       "      <td>Comprende los servicios prestados a alumnos y ...</td>\n",
       "      <td>2</td>\n",
       "      <td>Educacion Inicial y Primaria</td>\n",
       "      <td>El Consejo de Educación Inicial y Primaria tie...</td>\n",
       "      <td>25</td>\n",
       "      <td>2</td>\n",
       "      <td>FUNCIONAMIENTO</td>\n",
       "      <td>1600263803</td>\n",
       "    </tr>\n",
       "    <tr>\n",
       "      <th>1</th>\n",
       "      <td>2015</td>\n",
       "      <td>ANEP</td>\n",
       "      <td>CEIP</td>\n",
       "      <td>Consejo de Educación Inicial y Primaria</td>\n",
       "      <td>8</td>\n",
       "      <td>EDUCACIÓN</td>\n",
       "      <td>Comprende los servicios prestados a alumnos y ...</td>\n",
       "      <td>2</td>\n",
       "      <td>Educacion Inicial y Primaria</td>\n",
       "      <td>El Consejo de Educación Inicial y Primaria tie...</td>\n",
       "      <td>25</td>\n",
       "      <td>2</td>\n",
       "      <td>INVERSION</td>\n",
       "      <td>162327838</td>\n",
       "    </tr>\n",
       "    <tr>\n",
       "      <th>2</th>\n",
       "      <td>2015</td>\n",
       "      <td>ANEP</td>\n",
       "      <td>CEIP</td>\n",
       "      <td>Consejo de Educación Inicial y Primaria</td>\n",
       "      <td>8</td>\n",
       "      <td>EDUCACIÓN</td>\n",
       "      <td>Comprende los servicios prestados a alumnos y ...</td>\n",
       "      <td>2</td>\n",
       "      <td>Educacion Inicial y Primaria</td>\n",
       "      <td>El Consejo de Educación Inicial y Primaria tie...</td>\n",
       "      <td>25</td>\n",
       "      <td>2</td>\n",
       "      <td>PERSONAL</td>\n",
       "      <td>16151734589</td>\n",
       "    </tr>\n",
       "    <tr>\n",
       "      <th>3</th>\n",
       "      <td>2015</td>\n",
       "      <td>ANEP</td>\n",
       "      <td>CEIP</td>\n",
       "      <td>Consejo de Educación Inicial y Primaria</td>\n",
       "      <td>8</td>\n",
       "      <td>EDUCACIÓN</td>\n",
       "      <td>Comprende los servicios prestados a alumnos y ...</td>\n",
       "      <td>340</td>\n",
       "      <td>Acceso a la Educación</td>\n",
       "      <td>Objetivos del Programa: 1.Mejorar el acceso al...</td>\n",
       "      <td>25</td>\n",
       "      <td>2</td>\n",
       "      <td>FUNCIONAMIENTO</td>\n",
       "      <td>87612098</td>\n",
       "    </tr>\n",
       "    <tr>\n",
       "      <th>4</th>\n",
       "      <td>2015</td>\n",
       "      <td>ANEP</td>\n",
       "      <td>CEIP</td>\n",
       "      <td>Consejo de Educación Inicial y Primaria</td>\n",
       "      <td>8</td>\n",
       "      <td>EDUCACIÓN</td>\n",
       "      <td>Comprende los servicios prestados a alumnos y ...</td>\n",
       "      <td>340</td>\n",
       "      <td>Acceso a la Educación</td>\n",
       "      <td>Objetivos del Programa: 1.Mejorar el acceso al...</td>\n",
       "      <td>25</td>\n",
       "      <td>2</td>\n",
       "      <td>PERSONAL</td>\n",
       "      <td>684459350</td>\n",
       "    </tr>\n",
       "  </tbody>\n",
       "</table>\n",
       "</div>\n",
       "      <button class=\"colab-df-convert\" onclick=\"convertToInteractive('df-3ec09975-7558-4f18-93a6-d258b38d54f1')\"\n",
       "              title=\"Convert this dataframe to an interactive table.\"\n",
       "              style=\"display:none;\">\n",
       "        \n",
       "  <svg xmlns=\"http://www.w3.org/2000/svg\" height=\"24px\"viewBox=\"0 0 24 24\"\n",
       "       width=\"24px\">\n",
       "    <path d=\"M0 0h24v24H0V0z\" fill=\"none\"/>\n",
       "    <path d=\"M18.56 5.44l.94 2.06.94-2.06 2.06-.94-2.06-.94-.94-2.06-.94 2.06-2.06.94zm-11 1L8.5 8.5l.94-2.06 2.06-.94-2.06-.94L8.5 2.5l-.94 2.06-2.06.94zm10 10l.94 2.06.94-2.06 2.06-.94-2.06-.94-.94-2.06-.94 2.06-2.06.94z\"/><path d=\"M17.41 7.96l-1.37-1.37c-.4-.4-.92-.59-1.43-.59-.52 0-1.04.2-1.43.59L10.3 9.45l-7.72 7.72c-.78.78-.78 2.05 0 2.83L4 21.41c.39.39.9.59 1.41.59.51 0 1.02-.2 1.41-.59l7.78-7.78 2.81-2.81c.8-.78.8-2.07 0-2.86zM5.41 20L4 18.59l7.72-7.72 1.47 1.35L5.41 20z\"/>\n",
       "  </svg>\n",
       "      </button>\n",
       "      \n",
       "  <style>\n",
       "    .colab-df-container {\n",
       "      display:flex;\n",
       "      flex-wrap:wrap;\n",
       "      gap: 12px;\n",
       "    }\n",
       "\n",
       "    .colab-df-convert {\n",
       "      background-color: #E8F0FE;\n",
       "      border: none;\n",
       "      border-radius: 50%;\n",
       "      cursor: pointer;\n",
       "      display: none;\n",
       "      fill: #1967D2;\n",
       "      height: 32px;\n",
       "      padding: 0 0 0 0;\n",
       "      width: 32px;\n",
       "    }\n",
       "\n",
       "    .colab-df-convert:hover {\n",
       "      background-color: #E2EBFA;\n",
       "      box-shadow: 0px 1px 2px rgba(60, 64, 67, 0.3), 0px 1px 3px 1px rgba(60, 64, 67, 0.15);\n",
       "      fill: #174EA6;\n",
       "    }\n",
       "\n",
       "    [theme=dark] .colab-df-convert {\n",
       "      background-color: #3B4455;\n",
       "      fill: #D2E3FC;\n",
       "    }\n",
       "\n",
       "    [theme=dark] .colab-df-convert:hover {\n",
       "      background-color: #434B5C;\n",
       "      box-shadow: 0px 1px 3px 1px rgba(0, 0, 0, 0.15);\n",
       "      filter: drop-shadow(0px 1px 2px rgba(0, 0, 0, 0.3));\n",
       "      fill: #FFFFFF;\n",
       "    }\n",
       "  </style>\n",
       "\n",
       "      <script>\n",
       "        const buttonEl =\n",
       "          document.querySelector('#df-3ec09975-7558-4f18-93a6-d258b38d54f1 button.colab-df-convert');\n",
       "        buttonEl.style.display =\n",
       "          google.colab.kernel.accessAllowed ? 'block' : 'none';\n",
       "\n",
       "        async function convertToInteractive(key) {\n",
       "          const element = document.querySelector('#df-3ec09975-7558-4f18-93a6-d258b38d54f1');\n",
       "          const dataTable =\n",
       "            await google.colab.kernel.invokeFunction('convertToInteractive',\n",
       "                                                     [key], {});\n",
       "          if (!dataTable) return;\n",
       "\n",
       "          const docLinkHtml = 'Like what you see? Visit the ' +\n",
       "            '<a target=\"_blank\" href=https://colab.research.google.com/notebooks/data_table.ipynb>data table notebook</a>'\n",
       "            + ' to learn more about interactive tables.';\n",
       "          element.innerHTML = '';\n",
       "          dataTable['output_type'] = 'display_data';\n",
       "          await google.colab.output.renderOutput(dataTable, element);\n",
       "          const docLink = document.createElement('div');\n",
       "          docLink.innerHTML = docLinkHtml;\n",
       "          element.appendChild(docLink);\n",
       "        }\n",
       "      </script>\n",
       "    </div>\n",
       "  </div>\n",
       "  "
      ],
      "text/plain": [
       "    año organismo_sigla ue_sigla                                ue_nombre  \\\n",
       "0  2015            ANEP     CEIP  Consejo de Educación Inicial y Primaria   \n",
       "1  2015            ANEP     CEIP  Consejo de Educación Inicial y Primaria   \n",
       "2  2015            ANEP     CEIP  Consejo de Educación Inicial y Primaria   \n",
       "3  2015            ANEP     CEIP  Consejo de Educación Inicial y Primaria   \n",
       "4  2015            ANEP     CEIP  Consejo de Educación Inicial y Primaria   \n",
       "\n",
       "   ap_codigo  ap_nombre                                     ap_descripcion  \\\n",
       "0          8  EDUCACIÓN  Comprende los servicios prestados a alumnos y ...   \n",
       "1          8  EDUCACIÓN  Comprende los servicios prestados a alumnos y ...   \n",
       "2          8  EDUCACIÓN  Comprende los servicios prestados a alumnos y ...   \n",
       "3          8  EDUCACIÓN  Comprende los servicios prestados a alumnos y ...   \n",
       "4          8  EDUCACIÓN  Comprende los servicios prestados a alumnos y ...   \n",
       "\n",
       "   programa_codigo               programa_nombre  \\\n",
       "0                2  Educacion Inicial y Primaria   \n",
       "1                2  Educacion Inicial y Primaria   \n",
       "2                2  Educacion Inicial y Primaria   \n",
       "3              340         Acceso a la Educación   \n",
       "4              340         Acceso a la Educación   \n",
       "\n",
       "                                   programa_objetivo  organismo_codigo  \\\n",
       "0  El Consejo de Educación Inicial y Primaria tie...                25   \n",
       "1  El Consejo de Educación Inicial y Primaria tie...                25   \n",
       "2  El Consejo de Educación Inicial y Primaria tie...                25   \n",
       "3  Objetivos del Programa: 1.Mejorar el acceso al...                25   \n",
       "4  Objetivos del Programa: 1.Mejorar el acceso al...                25   \n",
       "\n",
       "   ue_codigo tipo_gasto_nombre  presupuestado  \n",
       "0          2    FUNCIONAMIENTO     1600263803  \n",
       "1          2         INVERSION      162327838  \n",
       "2          2          PERSONAL    16151734589  \n",
       "3          2    FUNCIONAMIENTO       87612098  \n",
       "4          2          PERSONAL      684459350  "
      ]
     },
     "execution_count": 16,
     "metadata": {},
     "output_type": "execute_result"
    }
   ],
   "source": [
    "# Una mirada \"rapida\" en presupuesto. \n",
    "presupuesto.head()"
   ]
  },
  {
   "cell_type": "code",
   "execution_count": null,
   "metadata": {
    "colab": {
     "base_uri": "https://localhost:8080/"
    },
    "executionInfo": {
     "elapsed": 30,
     "status": "ok",
     "timestamp": 1666399211647,
     "user": {
      "displayName": "Anthony de los Santos",
      "userId": "04036911723789267090"
     },
     "user_tz": 180
    },
    "id": "1QhNdwiwyEFo",
    "outputId": "a475ec5e-c009-4e11-f2f6-705275f81672"
   },
   "outputs": [
    {
     "data": {
      "text/plain": [
       "['ANEP', 'M.Interior', 'MIDES', 'UdelaR']"
      ]
     },
     "execution_count": 17,
     "metadata": {},
     "output_type": "execute_result"
    }
   ],
   "source": [
    "# \n",
    "# Presupuesto entre 2015-2018; \n",
    "# Y el enfoque será en ANEP (Administración Nacional de Educación Pública)\n",
    "# M.Interior (Ministerio del interior), MIDES, UdelaR;\n",
    "#\n",
    "\n",
    "dataPresupuesto = presupuesto.loc[ presupuesto[\"año\"] <= 2018 ]; # Presupuesto entre 2015-1018\n",
    "organismos = list( dataPresupuesto[\"organismo_sigla\"].drop_duplicates() ); # Lista de organismos según su sigla\n",
    "\n",
    "org = [];\n",
    "for i in organismos:\n",
    "    if i in [\"ANEP\",\"M.Interior\",\"MIDES\",\"UdelaR\"]:\n",
    "        org.append(i)\n",
    "        \n",
    "org # Organismos a estudiar el presupuesto 2015-2018"
   ]
  },
  {
   "cell_type": "code",
   "execution_count": null,
   "metadata": {
    "colab": {
     "base_uri": "https://localhost:8080/"
    },
    "executionInfo": {
     "elapsed": 17,
     "status": "ok",
     "timestamp": 1666399212071,
     "user": {
      "displayName": "Anthony de los Santos",
      "userId": "04036911723789267090"
     },
     "user_tz": 180
    },
    "id": "J69wVBwr8KX_",
    "outputId": "8d3d2491-56dc-4bae-a173-e996fd5cfb17"
   },
   "outputs": [
    {
     "name": "stdout",
     "output_type": "stream",
     "text": [
      "Dimensión del dataset prespto1518 : (823, 14)\n"
     ]
    }
   ],
   "source": [
    "# dataset presupuesto 2015-2018 | ANEP, M.Interior, MIDES, UdelaR;\n",
    "prespto1518 = pd.concat( [ dataPresupuesto.loc[ dataPresupuesto[\"organismo_sigla\"] == i ] for i in org ] );\n",
    "print(\"Dimensión del dataset prespto1518 :\", prespto1518.shape)"
   ]
  },
  {
   "cell_type": "markdown",
   "metadata": {
    "id": "E4L-yu_2NQov"
   },
   "source": [
    "- Para ver el dashboard de Presupuesto Nacional 2015-2018: \n",
    "\n",
    "link: https://public.tableau.com/app/profile/anthony.gregory.de.los.santos.epifanio/viz/presupuesto20152018/Dashboard1"
   ]
  },
  {
   "cell_type": "markdown",
   "metadata": {
    "id": "SGeRxhhBN6ot"
   },
   "source": [
    "---\n",
    "\n",
    "- Referencias: \n",
    "1. Sobre Gasto Público Social;  https://www.gub.uy/ministerio-economia-finanzas/node/1582\n",
    "2. Sobre Ley de Presupuesto Nacional; https://www.gub.uy/ministerio-economia-finanzas/comunicacion/publicaciones/es-presupuesto-nacional\n"
   ]
  }
 ],
 "metadata": {
  "colab": {
   "authorship_tag": "ABX9TyOnbuJd0WkL7/5mfnWRFDmx",
   "collapsed_sections": [],
   "provenance": []
  },
  "kernelspec": {
   "display_name": "Python 3",
   "language": "python",
   "name": "python3"
  },
  "language_info": {
   "codemirror_mode": {
    "name": "ipython",
    "version": 3
   },
   "file_extension": ".py",
   "mimetype": "text/x-python",
   "name": "python",
   "nbconvert_exporter": "python",
   "pygments_lexer": "ipython3",
   "version": "3.8.8"
  }
 },
 "nbformat": 4,
 "nbformat_minor": 1
}
