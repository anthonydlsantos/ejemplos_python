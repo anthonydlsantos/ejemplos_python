{
 "cells": [
  {
   "cell_type": "markdown",
   "id": "moral-saver",
   "metadata": {},
   "source": [
    "## Análisis de datos: Gasto Público Social , Presupuesto Nacional. \n",
    "\n",
    "\n",
    "Proyecto práctico para analizar dos conjuntos de datos, *dataset*, sobre Gastos Publico Social y Presupuesto Nacional, del Uruguay.<br>\n",
    "La fuente de cada dataset se encuentra en: \" https://catalogodatos.gub.uy/dataset/anep-http-sig-anep-edu-uy-siganep-formatos \"\n",
    "\n",
    "La idea de este trabajo es realizar un análisis completo, en caso que sea necesario. Esto es, Carga del dataset, data wrangling, ETL, visualización de datos.\n",
    "\n",
    "Parte de la visualización de datos, se hará en Tableau Public. \n",
    "\n",
    "---\n",
    "Anthony de los Santos."
   ]
  },
  {
   "cell_type": "code",
   "execution_count": 3,
   "id": "thick-heading",
   "metadata": {},
   "outputs": [],
   "source": [
    "#\n",
    "# carga de paquetes para el trabajo\n",
    "#\n",
    "\n",
    "import pandas as pd;\n",
    "import numpy as np;\n",
    "import matplotlib.pyplot as plt;\n",
    "plt.style.use(\"seaborn\"); \n"
   ]
  },
  {
   "cell_type": "code",
   "execution_count": 4,
   "id": "compressed-victorian",
   "metadata": {},
   "outputs": [
    {
     "name": "stderr",
     "output_type": "stream",
     "text": [
      "/home/anthony/anaconda3/lib/python3.8/site-packages/openpyxl/styles/stylesheet.py:214: UserWarning: Workbook contains no default style, apply openpyxl's default\n",
      "  warn(\"Workbook contains no default style, apply openpyxl's default\")\n"
     ]
    }
   ],
   "source": [
    "# Carga de dataset\n",
    "\n",
    "gastos      = pd.read_excel(\"gastoPublico.xlsx\");      # Gasto Público Social   ;\n",
    "presupuesto = pd.read_csv(\"presupuesto20152019.csv\");  # Presupuesto 2015 - 2019;"
   ]
  },
  {
   "cell_type": "code",
   "execution_count": 5,
   "id": "eastern-baghdad",
   "metadata": {},
   "outputs": [
    {
     "name": "stdout",
     "output_type": "stream",
     "text": [
      "Dimensión de cada dataset gastosPublicos y presupuesto20152019 :  (70, 3) | (4516, 14)\n"
     ]
    }
   ],
   "source": [
    "print(\"Dimensión de cada dataset gastosPublicos y presupuesto20152019 : \", gastos.shape, \"|\", presupuesto.shape)\n",
    "\n"
   ]
  },
  {
   "cell_type": "markdown",
   "id": "e49bda91",
   "metadata": {},
   "source": [
    "### El dataset Gastos. \n",
    "\n",
    "Gastos Publicos Sociales.\n",
    "\n",
    "---"
   ]
  },
  {
   "cell_type": "code",
   "execution_count": 6,
   "id": "colored-china",
   "metadata": {},
   "outputs": [
    {
     "data": {
      "text/html": [
       "<div>\n",
       "<style scoped>\n",
       "    .dataframe tbody tr th:only-of-type {\n",
       "        vertical-align: middle;\n",
       "    }\n",
       "\n",
       "    .dataframe tbody tr th {\n",
       "        vertical-align: top;\n",
       "    }\n",
       "\n",
       "    .dataframe thead th {\n",
       "        text-align: right;\n",
       "    }\n",
       "</style>\n",
       "<table border=\"1\" class=\"dataframe\">\n",
       "  <thead>\n",
       "    <tr style=\"text-align: right;\">\n",
       "      <th></th>\n",
       "      <th>Funciones GPS_fg</th>\n",
       "      <th>año</th>\n",
       "      <th>valor</th>\n",
       "    </tr>\n",
       "  </thead>\n",
       "  <tbody>\n",
       "    <tr>\n",
       "      <th>0</th>\n",
       "      <td>Educación</td>\n",
       "      <td>2005</td>\n",
       "      <td>13330423</td>\n",
       "    </tr>\n",
       "    <tr>\n",
       "      <th>1</th>\n",
       "      <td>Salud</td>\n",
       "      <td>2005</td>\n",
       "      <td>17109940</td>\n",
       "    </tr>\n",
       "    <tr>\n",
       "      <th>2</th>\n",
       "      <td>Seguridad y Asistencia Social</td>\n",
       "      <td>2005</td>\n",
       "      <td>48449411</td>\n",
       "    </tr>\n",
       "    <tr>\n",
       "      <th>3</th>\n",
       "      <td>Vivienda y Servicios comunitarios</td>\n",
       "      <td>2005</td>\n",
       "      <td>5537733</td>\n",
       "    </tr>\n",
       "    <tr>\n",
       "      <th>4</th>\n",
       "      <td>Cultura y Deporte</td>\n",
       "      <td>2005</td>\n",
       "      <td>803209</td>\n",
       "    </tr>\n",
       "  </tbody>\n",
       "</table>\n",
       "</div>"
      ],
      "text/plain": [
       "                    Funciones GPS_fg   año     valor\n",
       "0                          Educación  2005  13330423\n",
       "1                              Salud  2005  17109940\n",
       "2      Seguridad y Asistencia Social  2005  48449411\n",
       "3  Vivienda y Servicios comunitarios  2005   5537733\n",
       "4                  Cultura y Deporte  2005    803209"
      ]
     },
     "execution_count": 6,
     "metadata": {},
     "output_type": "execute_result"
    }
   ],
   "source": [
    "# Para comenzar, se realiza un analisis en el dataset gastos. \n",
    "gastos.head() "
   ]
  },
  {
   "cell_type": "code",
   "execution_count": 7,
   "id": "married-radius",
   "metadata": {},
   "outputs": [],
   "source": [
    "#\n",
    "# Sobre gastos, ¿ Cuanto fue el gasto correspondiente al año 2005 y 2006 ? \n",
    "#"
   ]
  },
  {
   "cell_type": "code",
   "execution_count": 8,
   "id": "oriental-shopping",
   "metadata": {},
   "outputs": [],
   "source": [
    "# Filtramos esos datos:  \n",
    "gastos2005 = gastos.loc[ gastos[\"año\"] == 2005 ]; \n",
    "gastos2006 = gastos.loc[ gastos[\"año\"] == 2006 ];"
   ]
  },
  {
   "cell_type": "code",
   "execution_count": 9,
   "id": "placed-border",
   "metadata": {},
   "outputs": [
    {
     "data": {
      "image/png": "[encoded data removed]",
      "text/plain": [
       "<Figure size 576x432 with 1 Axes>"
      ]
     },
     "metadata": {},
     "output_type": "display_data"
    }
   ],
   "source": [
    "#\n",
    "# Creamos una gráfica de barras con esos datos de gastos en 2005,2006;\n",
    "# _ Para una mejor visualización se aplica logaritmo al gasto ( log( data[\"valor\"] ) )\n",
    "#\n",
    "\n",
    "plt.figure(figsize=[8,6])\n",
    "\n",
    "plt.bar( gastos2006[\"Funciones GPS_fg\"], gastos2006[\"valor\"].transform( np.log ), label=\"2006\" )\n",
    "plt.bar( gastos2005[\"Funciones GPS_fg\"], gastos2005[\"valor\"].transform( np.log ), label=\"2005\" )\n",
    "\n",
    "plt.title(\"Gastos Públicos 2005-2006\", fontweight=\"bold\")\n",
    "plt.ylabel(\" log( $gasto ) \", color=\"blue\")\n",
    "plt.tick_params(axis=\"x\", colors=\"blue\", labelrotation = 85)\n",
    "plt.legend()\n",
    "\n",
    "plt.show()"
   ]
  },
  {
   "cell_type": "markdown",
   "id": "flush-apparel",
   "metadata": {},
   "source": [
    "En base al simple plot *(Gráfica)* se puede ver que se destina el mayor gasto público a Seguridad y Servicios comunitarios, siendo Cultura y Deporte el menor valor destinado al gasto público.  "
   ]
  },
  {
   "cell_type": "code",
   "execution_count": 10,
   "id": "damaged-synthesis",
   "metadata": {},
   "outputs": [
    {
     "data": {
      "text/html": [
       "<div>\n",
       "<style scoped>\n",
       "    .dataframe tbody tr th:only-of-type {\n",
       "        vertical-align: middle;\n",
       "    }\n",
       "\n",
       "    .dataframe tbody tr th {\n",
       "        vertical-align: top;\n",
       "    }\n",
       "\n",
       "    .dataframe thead th {\n",
       "        text-align: right;\n",
       "    }\n",
       "</style>\n",
       "<table border=\"1\" class=\"dataframe\">\n",
       "  <thead>\n",
       "    <tr style=\"text-align: right;\">\n",
       "      <th></th>\n",
       "      <th>Funciones GPS_fg</th>\n",
       "      <th>año</th>\n",
       "      <th>valor</th>\n",
       "    </tr>\n",
       "  </thead>\n",
       "  <tbody>\n",
       "    <tr>\n",
       "      <th>2</th>\n",
       "      <td>Seguridad y Asistencia Social</td>\n",
       "      <td>2005</td>\n",
       "      <td>48449411</td>\n",
       "    </tr>\n",
       "  </tbody>\n",
       "</table>\n",
       "</div>"
      ],
      "text/plain": [
       "                Funciones GPS_fg   año     valor\n",
       "2  Seguridad y Asistencia Social  2005  48449411"
      ]
     },
     "execution_count": 10,
     "metadata": {},
     "output_type": "execute_result"
    }
   ],
   "source": [
    "#\n",
    "# Valores máximos y mínimos de gastos en 2005;\n",
    "#\n",
    "\n",
    "maxGasto2005 = gastos2005.loc[ gastos2005[\"valor\"] == gastos2005[\"valor\"].max() ]; # Con valor en miles de pesos $. \n",
    "maxGasto2005"
   ]
  },
  {
   "cell_type": "code",
   "execution_count": 11,
   "id": "beneficial-broadcast",
   "metadata": {},
   "outputs": [
    {
     "data": {
      "text/html": [
       "<div>\n",
       "<style scoped>\n",
       "    .dataframe tbody tr th:only-of-type {\n",
       "        vertical-align: middle;\n",
       "    }\n",
       "\n",
       "    .dataframe tbody tr th {\n",
       "        vertical-align: top;\n",
       "    }\n",
       "\n",
       "    .dataframe thead th {\n",
       "        text-align: right;\n",
       "    }\n",
       "</style>\n",
       "<table border=\"1\" class=\"dataframe\">\n",
       "  <thead>\n",
       "    <tr style=\"text-align: right;\">\n",
       "      <th></th>\n",
       "      <th>Funciones GPS_fg</th>\n",
       "      <th>año</th>\n",
       "      <th>valor</th>\n",
       "    </tr>\n",
       "  </thead>\n",
       "  <tbody>\n",
       "    <tr>\n",
       "      <th>4</th>\n",
       "      <td>Cultura y Deporte</td>\n",
       "      <td>2005</td>\n",
       "      <td>803209</td>\n",
       "    </tr>\n",
       "  </tbody>\n",
       "</table>\n",
       "</div>"
      ],
      "text/plain": [
       "    Funciones GPS_fg   año   valor\n",
       "4  Cultura y Deporte  2005  803209"
      ]
     },
     "execution_count": 11,
     "metadata": {},
     "output_type": "execute_result"
    }
   ],
   "source": [
    "minGasto2005 = gastos2005.loc[ gastos2005[\"valor\"] == gastos2005[\"valor\"].min() ];\n",
    "minGasto2005"
   ]
  },
  {
   "cell_type": "markdown",
   "id": "overhead-study",
   "metadata": {},
   "source": [
    "¿ Como evolucionan los gastos en el tiempo ? "
   ]
  },
  {
   "cell_type": "code",
   "execution_count": 13,
   "id": "related-thing",
   "metadata": {},
   "outputs": [],
   "source": [
    "#\n",
    "# Educacion, Salud, Seguridad y Asistencia social, vivienda y servicios comunitarios, cultura y deporte. \n",
    "# Evolucion temporal..."
   ]
  },
  {
   "cell_type": "code",
   "execution_count": 14,
   "id": "cultural-wesley",
   "metadata": {},
   "outputs": [],
   "source": [
    "# Tomo como partida, la evolucion de gastos en funcion del anio de la educacion. \n",
    "\n",
    "ed = gastos.loc[ gastos[\"Funciones GPS_fg\"] == \"Educación\" ];\n"
   ]
  },
  {
   "cell_type": "code",
   "execution_count": 15,
   "id": "f5f04d5d",
   "metadata": {},
   "outputs": [
    {
     "data": {
      "image/png": "[encoded data removed]",
      "text/plain": [
       "<Figure size 576x396 with 1 Axes>"
      ]
     },
     "metadata": {},
     "output_type": "display_data"
    }
   ],
   "source": [
    "\n",
    "plt.figure()\n",
    "plt.scatter( ed[ \"año\" ], ed[ \"valor\" ].transform( np.log ) )\n",
    "plt.plot( ed[ \"año\" ], ed[ \"valor\" ].transform( np.log ), \"g\" )\n",
    "\n",
    "plt.title( \" Educación | Gastos 2005-2018 \", fontweight=\"bold\" )\n",
    "\n",
    "plt.show()\n"
   ]
  },
  {
   "cell_type": "code",
   "execution_count": 38,
   "id": "968775ea",
   "metadata": {},
   "outputs": [
    {
     "data": {
      "image/png": "[encoded data removed]",
      "text/plain": [
       "<Figure size 576x396 with 1 Axes>"
      ]
     },
     "metadata": {},
     "output_type": "display_data"
    }
   ],
   "source": [
    "#\n",
    "# Todos\n",
    "# \n",
    "\n",
    "funciones = list(gastos[\"Funciones GPS_fg\"].drop_duplicates());\n",
    "\n",
    "plt.figure();\n",
    "\n",
    "for i in funciones:\n",
    "    d = gastos.loc[ gastos[\"Funciones GPS_fg\"] == i ];\n",
    "    \n",
    "    plt.scatter( d[ \"año\" ], d[ \"valor\" ].transform( np.log ), label=i)\n",
    "    plt.plot( d[ \"año\" ], d[ \"valor\" ].transform( np.log ) )\n",
    "\n",
    "    plt.title( \" Funciones | Gastos \", fontweight=\"bold\" )\n",
    "    plt.legend()\n",
    "    \n",
    "plt.show();\n",
    "    \n"
   ]
  },
  {
   "cell_type": "markdown",
   "id": "bf2fe5ca",
   "metadata": {},
   "source": [
    "### El dataset Presupuesto.  "
   ]
  },
  {
   "cell_type": "code",
   "execution_count": 56,
   "id": "99afa9ef",
   "metadata": {},
   "outputs": [
    {
     "data": {
      "text/html": [
       "<div>\n",
       "<style scoped>\n",
       "    .dataframe tbody tr th:only-of-type {\n",
       "        vertical-align: middle;\n",
       "    }\n",
       "\n",
       "    .dataframe tbody tr th {\n",
       "        vertical-align: top;\n",
       "    }\n",
       "\n",
       "    .dataframe thead th {\n",
       "        text-align: right;\n",
       "    }\n",
       "</style>\n",
       "<table border=\"1\" class=\"dataframe\">\n",
       "  <thead>\n",
       "    <tr style=\"text-align: right;\">\n",
       "      <th></th>\n",
       "      <th>año</th>\n",
       "      <th>organismo_sigla</th>\n",
       "      <th>ue_sigla</th>\n",
       "      <th>ue_nombre</th>\n",
       "      <th>ap_codigo</th>\n",
       "      <th>ap_nombre</th>\n",
       "      <th>ap_descripcion</th>\n",
       "      <th>programa_codigo</th>\n",
       "      <th>programa_nombre</th>\n",
       "      <th>programa_objetivo</th>\n",
       "      <th>organismo_codigo</th>\n",
       "      <th>ue_codigo</th>\n",
       "      <th>tipo_gasto_nombre</th>\n",
       "      <th>presupuestado</th>\n",
       "    </tr>\n",
       "  </thead>\n",
       "  <tbody>\n",
       "    <tr>\n",
       "      <th>0</th>\n",
       "      <td>2015</td>\n",
       "      <td>ANEP</td>\n",
       "      <td>CEIP</td>\n",
       "      <td>Consejo de Educación Inicial y Primaria</td>\n",
       "      <td>8</td>\n",
       "      <td>EDUCACIÓN</td>\n",
       "      <td>Comprende los servicios prestados a alumnos y ...</td>\n",
       "      <td>2</td>\n",
       "      <td>Educacion Inicial y Primaria</td>\n",
       "      <td>El Consejo de Educación Inicial y Primaria tie...</td>\n",
       "      <td>25</td>\n",
       "      <td>2</td>\n",
       "      <td>FUNCIONAMIENTO</td>\n",
       "      <td>1600263803</td>\n",
       "    </tr>\n",
       "    <tr>\n",
       "      <th>1</th>\n",
       "      <td>2015</td>\n",
       "      <td>ANEP</td>\n",
       "      <td>CEIP</td>\n",
       "      <td>Consejo de Educación Inicial y Primaria</td>\n",
       "      <td>8</td>\n",
       "      <td>EDUCACIÓN</td>\n",
       "      <td>Comprende los servicios prestados a alumnos y ...</td>\n",
       "      <td>2</td>\n",
       "      <td>Educacion Inicial y Primaria</td>\n",
       "      <td>El Consejo de Educación Inicial y Primaria tie...</td>\n",
       "      <td>25</td>\n",
       "      <td>2</td>\n",
       "      <td>INVERSION</td>\n",
       "      <td>162327838</td>\n",
       "    </tr>\n",
       "    <tr>\n",
       "      <th>2</th>\n",
       "      <td>2015</td>\n",
       "      <td>ANEP</td>\n",
       "      <td>CEIP</td>\n",
       "      <td>Consejo de Educación Inicial y Primaria</td>\n",
       "      <td>8</td>\n",
       "      <td>EDUCACIÓN</td>\n",
       "      <td>Comprende los servicios prestados a alumnos y ...</td>\n",
       "      <td>2</td>\n",
       "      <td>Educacion Inicial y Primaria</td>\n",
       "      <td>El Consejo de Educación Inicial y Primaria tie...</td>\n",
       "      <td>25</td>\n",
       "      <td>2</td>\n",
       "      <td>PERSONAL</td>\n",
       "      <td>16151734589</td>\n",
       "    </tr>\n",
       "    <tr>\n",
       "      <th>3</th>\n",
       "      <td>2015</td>\n",
       "      <td>ANEP</td>\n",
       "      <td>CEIP</td>\n",
       "      <td>Consejo de Educación Inicial y Primaria</td>\n",
       "      <td>8</td>\n",
       "      <td>EDUCACIÓN</td>\n",
       "      <td>Comprende los servicios prestados a alumnos y ...</td>\n",
       "      <td>340</td>\n",
       "      <td>Acceso a la Educación</td>\n",
       "      <td>Objetivos del Programa: 1.Mejorar el acceso al...</td>\n",
       "      <td>25</td>\n",
       "      <td>2</td>\n",
       "      <td>FUNCIONAMIENTO</td>\n",
       "      <td>87612098</td>\n",
       "    </tr>\n",
       "    <tr>\n",
       "      <th>4</th>\n",
       "      <td>2015</td>\n",
       "      <td>ANEP</td>\n",
       "      <td>CEIP</td>\n",
       "      <td>Consejo de Educación Inicial y Primaria</td>\n",
       "      <td>8</td>\n",
       "      <td>EDUCACIÓN</td>\n",
       "      <td>Comprende los servicios prestados a alumnos y ...</td>\n",
       "      <td>340</td>\n",
       "      <td>Acceso a la Educación</td>\n",
       "      <td>Objetivos del Programa: 1.Mejorar el acceso al...</td>\n",
       "      <td>25</td>\n",
       "      <td>2</td>\n",
       "      <td>PERSONAL</td>\n",
       "      <td>684459350</td>\n",
       "    </tr>\n",
       "  </tbody>\n",
       "</table>\n",
       "</div>"
      ],
      "text/plain": [
       "    año organismo_sigla ue_sigla                                ue_nombre  \\\n",
       "0  2015            ANEP     CEIP  Consejo de Educación Inicial y Primaria   \n",
       "1  2015            ANEP     CEIP  Consejo de Educación Inicial y Primaria   \n",
       "2  2015            ANEP     CEIP  Consejo de Educación Inicial y Primaria   \n",
       "3  2015            ANEP     CEIP  Consejo de Educación Inicial y Primaria   \n",
       "4  2015            ANEP     CEIP  Consejo de Educación Inicial y Primaria   \n",
       "\n",
       "   ap_codigo  ap_nombre                                     ap_descripcion  \\\n",
       "0          8  EDUCACIÓN  Comprende los servicios prestados a alumnos y ...   \n",
       "1          8  EDUCACIÓN  Comprende los servicios prestados a alumnos y ...   \n",
       "2          8  EDUCACIÓN  Comprende los servicios prestados a alumnos y ...   \n",
       "3          8  EDUCACIÓN  Comprende los servicios prestados a alumnos y ...   \n",
       "4          8  EDUCACIÓN  Comprende los servicios prestados a alumnos y ...   \n",
       "\n",
       "   programa_codigo               programa_nombre  \\\n",
       "0                2  Educacion Inicial y Primaria   \n",
       "1                2  Educacion Inicial y Primaria   \n",
       "2                2  Educacion Inicial y Primaria   \n",
       "3              340         Acceso a la Educación   \n",
       "4              340         Acceso a la Educación   \n",
       "\n",
       "                                   programa_objetivo  organismo_codigo  \\\n",
       "0  El Consejo de Educación Inicial y Primaria tie...                25   \n",
       "1  El Consejo de Educación Inicial y Primaria tie...                25   \n",
       "2  El Consejo de Educación Inicial y Primaria tie...                25   \n",
       "3  Objetivos del Programa: 1.Mejorar el acceso al...                25   \n",
       "4  Objetivos del Programa: 1.Mejorar el acceso al...                25   \n",
       "\n",
       "   ue_codigo tipo_gasto_nombre  presupuestado  \n",
       "0          2    FUNCIONAMIENTO     1600263803  \n",
       "1          2         INVERSION      162327838  \n",
       "2          2          PERSONAL    16151734589  \n",
       "3          2    FUNCIONAMIENTO       87612098  \n",
       "4          2          PERSONAL      684459350  "
      ]
     },
     "execution_count": 56,
     "metadata": {},
     "output_type": "execute_result"
    }
   ],
   "source": [
    "# Una mirada \"rapida\" en presupuesto. \n",
    "presupuesto.head()"
   ]
  },
  {
   "cell_type": "code",
   "execution_count": 57,
   "id": "worthy-parcel",
   "metadata": {},
   "outputs": [
    {
     "data": {
      "text/plain": [
       "['ANEP', 'M.Interior', 'MIDES', 'UdelaR']"
      ]
     },
     "execution_count": 57,
     "metadata": {},
     "output_type": "execute_result"
    }
   ],
   "source": [
    "# \n",
    "# Presupuesto entre 2015-2018; \n",
    "# Y el enfoque será en ANEP (Administración Nacional de Educación Pública)\n",
    "# M.Interior (Ministerio del interior), MIDES, UdelaR;\n",
    "#\n",
    "\n",
    "dataPresupuesto = presupuesto.loc[ presupuesto[\"año\"] <= 2018 ]; # Presupuesto entre 2015-1018\n",
    "organismos = list( dataPresupuesto[\"organismo_sigla\"].drop_duplicates() ); # Lista de organismos según su sigla\n",
    "\n",
    "org = [];\n",
    "for i in organismos:\n",
    "    if i in [\"ANEP\",\"M.Interior\",\"MIDES\",\"UdelaR\"]:\n",
    "        org.append(i)\n",
    "        \n",
    "org # Organismos a estudiar el presupuesto 2015-2018"
   ]
  },
  {
   "cell_type": "code",
   "execution_count": null,
   "id": "capable-anger",
   "metadata": {},
   "outputs": [],
   "source": []
  }
 ],
 "metadata": {
  "kernelspec": {
   "display_name": "Python 3",
   "language": "python",
   "name": "python3"
  },
  "language_info": {
   "codemirror_mode": {
    "name": "ipython",
    "version": 3
   },
   "file_extension": ".py",
   "mimetype": "text/x-python",
   "name": "python",
   "nbconvert_exporter": "python",
   "pygments_lexer": "ipython3",
   "version": "3.8.8"
  }
 },
 "nbformat": 4,
 "nbformat_minor": 5
}
